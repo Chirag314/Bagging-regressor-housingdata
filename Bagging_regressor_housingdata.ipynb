{
  "nbformat": 4,
  "nbformat_minor": 0,
  "metadata": {
    "colab": {
      "provenance": [],
      "collapsed_sections": [],
      "authorship_tag": "ABX9TyN3IOdqBASamTN8eT8D3gBg",
      "include_colab_link": true
    },
    "kernelspec": {
      "name": "python3",
      "display_name": "Python 3"
    },
    "language_info": {
      "name": "python"
    }
  },
  "cells": [
    {
      "cell_type": "markdown",
      "metadata": {
        "id": "view-in-github",
        "colab_type": "text"
      },
      "source": [
        "<a href=\"https://colab.research.google.com/github/Chirag314/Bagging-regressor-housingdata/blob/main/Bagging_regressor_housingdata.ipynb\" target=\"_parent\"><img src=\"https://colab.research.google.com/assets/colab-badge.svg\" alt=\"Open In Colab\"/></a>"
      ]
    },
    {
      "cell_type": "markdown",
      "source": [
        "###This notebook is copied from exercises from book Ensemble Machine Learning Cookbook."
      ],
      "metadata": {
        "id": "de3ggC8Kv_99"
      }
    },
    {
      "cell_type": "code",
      "source": [
        "#import required libraries\n",
        "import warnings\n",
        "warnings.filterwarnings('ignore')\n",
        "import os\n",
        "import pandas as pd\n",
        "import numpy as np\n",
        "from sklearn.model_selection import train_test_split\n",
        "from sklearn.linear_model import SGDRegressor\n",
        "from sklearn.metrics import mean_squared_error, r2_score\n",
        "from sklearn.ensemble import BaggingRegressor\n",
        "from sklearn.tree import DecisionTreeRegressor\n",
        "from sklearn.utils import resample\n",
        "import matplotlib.pyplot as plt"
      ],
      "metadata": {
        "id": "CWjW7ISB-O8s"
      },
      "execution_count": 1,
      "outputs": []
    },
    {
      "cell_type": "code",
      "execution_count": 2,
      "metadata": {
        "colab": {
          "base_uri": "https://localhost:8080/"
        },
        "id": "rror9ooAv2jU",
        "outputId": "6dc26394-6948-4e31-a36c-394d2e5c0ce6"
      },
      "outputs": [
        {
          "output_type": "stream",
          "name": "stdout",
          "text": [
            "   ID     crim    zn  indus  chas    nox     rm   age     dis  rad  tax  \\\n",
            "0   1  0.00632  18.0   2.31     0  0.538  6.575  65.2  4.0900    1  296   \n",
            "1   2  0.02731   0.0   7.07     0  0.469  6.421  78.9  4.9671    2  242   \n",
            "2   4  0.03237   0.0   2.18     0  0.458  6.998  45.8  6.0622    3  222   \n",
            "3   5  0.06905   0.0   2.18     0  0.458  7.147  54.2  6.0622    3  222   \n",
            "4   7  0.08829  12.5   7.87     0  0.524  6.012  66.6  5.5605    5  311   \n",
            "\n",
            "   ptratio   black  lstat  medv  \n",
            "0     15.3  396.90   4.98  24.0  \n",
            "1     17.8  396.90   9.14  21.6  \n",
            "2     18.7  394.63   2.94  33.4  \n",
            "3     18.7  396.90   5.33  36.2  \n",
            "4     15.2  395.60  12.43  22.9  \n"
          ]
        }
      ],
      "source": [
        "# Read data from github. Use raw format and copy url# Note normal url and raw url will be different.\n",
        "import pandas as pd\n",
        "pd.options.display.max_rows=None\n",
        "pd.options.display.max_columns=None\n",
        "url = 'https://raw.githubusercontent.com/PacktPublishing/Ensemble-Machine-Learning-Cookbook/master/Chapter05/bostonhousing.csv'\n",
        "df_housingdata = pd.read_csv(url)\n",
        "#df = pd.read_csv(url)\n",
        "print(df_housingdata.head(5))"
      ]
    },
    {
      "cell_type": "code",
      "source": [
        "df_housingdata.shape"
      ],
      "metadata": {
        "colab": {
          "base_uri": "https://localhost:8080/"
        },
        "id": "7Bssz3tOvWQW",
        "outputId": "e3073343-36b2-42a3-ae4f-536f997e8ca5"
      },
      "execution_count": 3,
      "outputs": [
        {
          "output_type": "execute_result",
          "data": {
            "text/plain": [
              "(333, 15)"
            ]
          },
          "metadata": {},
          "execution_count": 3
        }
      ]
    },
    {
      "cell_type": "code",
      "source": [
        "df_housingdata.dtypes\n",
        "#df_backorder.describe()"
      ],
      "metadata": {
        "colab": {
          "base_uri": "https://localhost:8080/"
        },
        "id": "SHW82cySCym-",
        "outputId": "cfed5387-9985-455d-80cb-4fddc4897de2"
      },
      "execution_count": 4,
      "outputs": [
        {
          "output_type": "execute_result",
          "data": {
            "text/plain": [
              "ID           int64\n",
              "crim       float64\n",
              "zn         float64\n",
              "indus      float64\n",
              "chas         int64\n",
              "nox        float64\n",
              "rm         float64\n",
              "age        float64\n",
              "dis        float64\n",
              "rad          int64\n",
              "tax          int64\n",
              "ptratio    float64\n",
              "black      float64\n",
              "lstat      float64\n",
              "medv       float64\n",
              "dtype: object"
            ]
          },
          "metadata": {},
          "execution_count": 4
        }
      ]
    },
    {
      "cell_type": "code",
      "source": [
        "# check missing values\n",
        "df_housingdata.isnull().sum()\n",
        "columns_with_missing_values=df_housingdata.columns[df_housingdata.isnull().any()]\n",
        "df_housingdata[columns_with_missing_values].isnull().sum()"
      ],
      "metadata": {
        "colab": {
          "base_uri": "https://localhost:8080/"
        },
        "id": "VcgsCJAGC5cN",
        "outputId": "76bb2df1-8bcd-4ec3-b54c-1d3ff6a27d5c"
      },
      "execution_count": 5,
      "outputs": [
        {
          "output_type": "execute_result",
          "data": {
            "text/plain": [
              "Series([], dtype: float64)"
            ]
          },
          "metadata": {},
          "execution_count": 5
        }
      ]
    },
    {
      "cell_type": "markdown",
      "source": [
        "#####WWe notice that there are no missing values in wine data"
      ],
      "metadata": {
        "id": "8LysqcOnDPh-"
      }
    },
    {
      "cell_type": "code",
      "source": [
        "#We separate our features and the response set. We also split our data into training and testing subsets.\n",
        "X=df_housingdata.iloc[:,1:14]\n",
        "Y=df_housingdata.iloc[:,-1]\n",
        "\n",
        "X_train,X_test, Y_train, Y_test=train_test_split(X,Y , random_state=1)"
      ],
      "metadata": {
        "id": "UJ79phHJYnuj"
      },
      "execution_count": 6,
      "outputs": []
    },
    {
      "cell_type": "code",
      "source": [
        "#We create an instance of the DecisionTreeClassifier class and pass it to the BaggingClassifier():\n",
        "#Note that in the preceding code block, we have declared bootstrap=True. This is the default value and indicates that samples are drawn with replacement\n",
        "dt_model=DecisionTreeRegressor()\n",
        "bag_dt_model=BaggingRegressor(dt_model,max_features=1.0,n_estimators=5, random_state=1,bootstrap=True)"
      ],
      "metadata": {
        "id": "HGyUpn7QYnrA"
      },
      "execution_count": 14,
      "outputs": []
    },
    {
      "cell_type": "code",
      "source": [
        "# Fit the model\n",
        "bag_dt_model.fit(X_train, Y_train)"
      ],
      "metadata": {
        "colab": {
          "base_uri": "https://localhost:8080/"
        },
        "id": "gJdrccdmYnoq",
        "outputId": "bcfd6121-d350-4ff6-d33c-0720d774de13"
      },
      "execution_count": 8,
      "outputs": [
        {
          "output_type": "execute_result",
          "data": {
            "text/plain": [
              "BaggingRegressor(base_estimator=DecisionTreeRegressor(), n_estimators=5,\n",
              "                 random_state=1)"
            ]
          },
          "metadata": {},
          "execution_count": 8
        }
      ]
    },
    {
      "cell_type": "code",
      "source": [
        "# Check the score after passing test data\n",
        "bag_dt_model.score(X_test,Y_test)"
      ],
      "metadata": {
        "colab": {
          "base_uri": "https://localhost:8080/"
        },
        "id": "GPREFhhZYnmb",
        "outputId": "e94c297e-97f6-466b-ae18-73d5539666e6"
      },
      "execution_count": 9,
      "outputs": [
        {
          "output_type": "execute_result",
          "data": {
            "text/plain": [
              "0.7239065279743389"
            ]
          },
          "metadata": {},
          "execution_count": 9
        }
      ]
    },
    {
      "cell_type": "code",
      "source": [
        "#We use the predict function to predict the response variable as follows:\n",
        "predictedvalues=bag_dt_model.predict(X_test)"
      ],
      "metadata": {
        "id": "HweUpIiZYnkP"
      },
      "execution_count": 10,
      "outputs": []
    },
    {
      "cell_type": "code",
      "source": [
        "# We can plot the actuals and the predicted values\n",
        "plt.figure(figsize=(4,4))\n",
        "plt.scatter(Y_test, predictedvalues)\n",
        "plt.xlabel('Actual')\n",
        "plt.ylabel('Predicted')\n",
        "plt.tight_layout()"
      ],
      "metadata": {
        "colab": {
          "base_uri": "https://localhost:8080/",
          "height": 297
        },
        "id": "lHroco0q2jhx",
        "outputId": "64b51b38-51aa-4ba8-a4b7-5b1c3de03a14"
      },
      "execution_count": 12,
      "outputs": [
        {
          "output_type": "display_data",
          "data": {
            "text/plain": [
              "<Figure size 288x288 with 1 Axes>"
            ],
            "image/png": "[encoded data removed]"
          },
          "metadata": {
            "needs_background": "light"
          }
        }
      ]
    },
    {
      "cell_type": "code",
      "source": [
        "#We now change the n_estimators parameter to 30 in the following code and re-execute the steps \n",
        "bag_dt_model=BaggingRegressor(dt_model, max_features=1.0,n_estimators=30,bootstrap=True, random_state=1)\n",
        "# Fit the model\n",
        "bag_dt_model.fit(X_train, Y_train)\n",
        "# Check the score after passing test data\n",
        "bag_dt_model.score(X_test,Y_test)\n",
        "#We use the predict function to predict the response variable as follows:\n",
        "predictedvalues=bag_dt_model.predict(X_test)"
      ],
      "metadata": {
        "id": "VbAVr7zn27Ol"
      },
      "execution_count": 19,
      "outputs": []
    },
    {
      "cell_type": "code",
      "source": [
        "# We can plot the actuals and the predicted values\n",
        "plt.figure(figsize=(4,4))\n",
        "plt.scatter(Y_test, predictedvalues)\n",
        "plt.xlabel('Actual')\n",
        "plt.ylabel('Predicted')\n",
        "plt.tight_layout()"
      ],
      "metadata": {
        "colab": {
          "base_uri": "https://localhost:8080/",
          "height": 297
        },
        "id": "SwkZ79_T27LM",
        "outputId": "75cd18bf-aece-48d9-961a-bbfdeee4efbb"
      },
      "execution_count": 20,
      "outputs": [
        {
          "output_type": "display_data",
          "data": {
            "text/plain": [
              "<Figure size 288x288 with 1 Axes>"
            ],
            "image/png": "[encoded data removed]"
          },
          "metadata": {
            "needs_background": "light"
          }
        }
      ]
    },
    {
      "cell_type": "code",
      "source": [],
      "metadata": {
        "id": "e8HaMggN27JM"
      },
      "execution_count": null,
      "outputs": []
    },
    {
      "cell_type": "code",
      "source": [],
      "metadata": {
        "id": "57ZlB-XI27Hd"
      },
      "execution_count": null,
      "outputs": []
    },
    {
      "cell_type": "code",
      "source": [],
      "metadata": {
        "id": "uUSKW7BV27E2"
      },
      "execution_count": null,
      "outputs": []
    },
    {
      "cell_type": "code",
      "source": [],
      "metadata": {
        "id": "bHwhVomp27CT"
      },
      "execution_count": null,
      "outputs": []
    },
    {
      "cell_type": "code",
      "source": [
        "#We will now use a code to plot the confusion matrix.\n",
        "def plot_confusion_matrix(cm,classes,normalize=False,title='Confusion matrix',cmap=plt.cm.Blues):\n",
        "  plt.imshow(cm,interpolation='nearest',cmap=cmap)\n",
        "  plt.title(title)\n",
        "  plt.colorbar()\n",
        "  tick_marks=np.arange(len(classes))\n",
        "  plt.xticks(tick_marks, classes,rotation=45)\n",
        "  plt.yticks(tick_marks, classes)\n",
        "\n",
        "  thresh=cm.max()\n",
        "  for i,j in itertools.product(range(cm.shape[0]),range(cm.shape[1])):\n",
        "    plt.text(j,i ,cm[i,j],horizontalalighment='center',\n",
        "             color='white' if cm[i,j]>thresh else 'black')\n",
        "    \n",
        "    plt.tight_layout()\n",
        "    plt.ylabel('Actuals')\n",
        "    plt.xlabel('Predicted')"
      ],
      "metadata": {
        "id": "b_qCWVsMYniU"
      },
      "execution_count": null,
      "outputs": []
    },
    {
      "cell_type": "code",
      "source": [
        "# This  variable holds class labels of our target\n",
        "target_names=['1','2','3']\n",
        "import itertools\n",
        "from sklearn.metrics import plot_confusion_matrix\n",
        "from sklearn.metrics import confusion_matrix\n",
        "cm=confusion_matrix(Y_test, predictedvalues)\n",
        "\n",
        "# Plotting the confusion matriz\n",
        "plt.figure(figsize=(3,3))\n",
        "plot_confusion_matrix(cm=cm,classes=target_names,normalize=False)\n",
        "plt.show()\n"
      ],
      "metadata": {
        "colab": {
          "base_uri": "https://localhost:8080/",
          "height": 356
        },
        "id": "iu4KukdqYngU",
        "outputId": "89b7f628-f7a1-420d-b6d8-83a59c9e2a0b"
      },
      "execution_count": null,
      "outputs": [
        {
          "output_type": "error",
          "ename": "TypeError",
          "evalue": "ignored",
          "traceback": [
            "\u001b[0;31m---------------------------------------------------------------------------\u001b[0m",
            "\u001b[0;31mTypeError\u001b[0m                                 Traceback (most recent call last)",
            "\u001b[0;32m<ipython-input-12-876e1b23c508>\u001b[0m in \u001b[0;36m<module>\u001b[0;34m\u001b[0m\n\u001b[1;32m      8\u001b[0m \u001b[0;31m# Plotting the confusion matriz\u001b[0m\u001b[0;34m\u001b[0m\u001b[0;34m\u001b[0m\u001b[0;34m\u001b[0m\u001b[0m\n\u001b[1;32m      9\u001b[0m \u001b[0mplt\u001b[0m\u001b[0;34m.\u001b[0m\u001b[0mfigure\u001b[0m\u001b[0;34m(\u001b[0m\u001b[0mfigsize\u001b[0m\u001b[0;34m=\u001b[0m\u001b[0;34m(\u001b[0m\u001b[0;36m3\u001b[0m\u001b[0;34m,\u001b[0m\u001b[0;36m3\u001b[0m\u001b[0;34m)\u001b[0m\u001b[0;34m)\u001b[0m\u001b[0;34m\u001b[0m\u001b[0;34m\u001b[0m\u001b[0m\n\u001b[0;32m---> 10\u001b[0;31m \u001b[0mplot_confusion_matrix\u001b[0m\u001b[0;34m(\u001b[0m\u001b[0mcm\u001b[0m\u001b[0;34m=\u001b[0m\u001b[0mcm\u001b[0m\u001b[0;34m,\u001b[0m\u001b[0mclasses\u001b[0m\u001b[0;34m=\u001b[0m\u001b[0mtarget_names\u001b[0m\u001b[0;34m,\u001b[0m\u001b[0mnormalize\u001b[0m\u001b[0;34m=\u001b[0m\u001b[0;32mFalse\u001b[0m\u001b[0;34m)\u001b[0m\u001b[0;34m\u001b[0m\u001b[0;34m\u001b[0m\u001b[0m\n\u001b[0m\u001b[1;32m     11\u001b[0m \u001b[0mplt\u001b[0m\u001b[0;34m.\u001b[0m\u001b[0mshow\u001b[0m\u001b[0;34m(\u001b[0m\u001b[0;34m)\u001b[0m\u001b[0;34m\u001b[0m\u001b[0;34m\u001b[0m\u001b[0m\n",
            "\u001b[0;32m/usr/local/lib/python3.7/dist-packages/sklearn/utils/deprecation.py\u001b[0m in \u001b[0;36mwrapped\u001b[0;34m(*args, **kwargs)\u001b[0m\n\u001b[1;32m     86\u001b[0m         \u001b[0;32mdef\u001b[0m \u001b[0mwrapped\u001b[0m\u001b[0;34m(\u001b[0m\u001b[0;34m*\u001b[0m\u001b[0margs\u001b[0m\u001b[0;34m,\u001b[0m \u001b[0;34m**\u001b[0m\u001b[0mkwargs\u001b[0m\u001b[0;34m)\u001b[0m\u001b[0;34m:\u001b[0m\u001b[0;34m\u001b[0m\u001b[0;34m\u001b[0m\u001b[0m\n\u001b[1;32m     87\u001b[0m             \u001b[0mwarnings\u001b[0m\u001b[0;34m.\u001b[0m\u001b[0mwarn\u001b[0m\u001b[0;34m(\u001b[0m\u001b[0mmsg\u001b[0m\u001b[0;34m,\u001b[0m \u001b[0mcategory\u001b[0m\u001b[0;34m=\u001b[0m\u001b[0mFutureWarning\u001b[0m\u001b[0;34m)\u001b[0m\u001b[0;34m\u001b[0m\u001b[0;34m\u001b[0m\u001b[0m\n\u001b[0;32m---> 88\u001b[0;31m             \u001b[0;32mreturn\u001b[0m \u001b[0mfun\u001b[0m\u001b[0;34m(\u001b[0m\u001b[0;34m*\u001b[0m\u001b[0margs\u001b[0m\u001b[0;34m,\u001b[0m \u001b[0;34m**\u001b[0m\u001b[0mkwargs\u001b[0m\u001b[0;34m)\u001b[0m\u001b[0;34m\u001b[0m\u001b[0;34m\u001b[0m\u001b[0m\n\u001b[0m\u001b[1;32m     89\u001b[0m \u001b[0;34m\u001b[0m\u001b[0m\n\u001b[1;32m     90\u001b[0m         \u001b[0mwrapped\u001b[0m\u001b[0;34m.\u001b[0m\u001b[0m__doc__\u001b[0m \u001b[0;34m=\u001b[0m \u001b[0mself\u001b[0m\u001b[0;34m.\u001b[0m\u001b[0m_update_doc\u001b[0m\u001b[0;34m(\u001b[0m\u001b[0mwrapped\u001b[0m\u001b[0;34m.\u001b[0m\u001b[0m__doc__\u001b[0m\u001b[0;34m)\u001b[0m\u001b[0;34m\u001b[0m\u001b[0;34m\u001b[0m\u001b[0m\n",
            "\u001b[0;31mTypeError\u001b[0m: plot_confusion_matrix() got an unexpected keyword argument 'cm'"
          ]
        },
        {
          "output_type": "display_data",
          "data": {
            "text/plain": [
              "<Figure size 216x216 with 0 Axes>"
            ]
          },
          "metadata": {}
        }
      ]
    },
    {
      "cell_type": "code",
      "source": [
        "#We start by creating the bootstrap samples\n",
        "def create_bootstrap_oob(df):\n",
        "  global df_oob\n",
        "  global df_bootstrap_sample\n",
        "  #Creating bootstrap sample\n",
        "  df_bootstrap_sample=resample(df,replace=True,n_samples=100)\n",
        "  #creating oob sample\n",
        "  bootstrap_sample_index=tuple(df_bootstrap_sample.index)\n",
        "  bootstrap_df=df.index.isin(bootstrap_sample_index)\n",
        "  df_oob=df[~bootstrap_df]"
      ],
      "metadata": {
        "id": "A693JIW4MToP"
      },
      "execution_count": null,
      "outputs": []
    },
    {
      "cell_type": "markdown",
      "source": [
        "We build models using the bootstrap samples and average the cost function across all the models. We use the SGDRegressor() on each bootstrap sample. In the following code block, we reuse our previously written custom function, create_bootstrap_oob(), to create the bootstrap and OOB error samples:"
      ],
      "metadata": {
        "id": "H5p63woUNd5w"
      }
    },
    {
      "cell_type": "code",
      "source": [
        "iteration=50\n",
        "mse_each_iteration=list()\n",
        "lm=SGDRegressor()\n",
        "total_mse=0\n",
        "average_mse=list()\n",
        "\n",
        "for i in range(iteration):\n",
        "  create_bootstrap_oob(df_winedata)\n",
        "\n",
        "  #bootstrap sample features set\n",
        "  x_bs=df_bootstrap_sample.iloc[:,1:8]\n",
        "  #Bootstrap sample response variable\n",
        "  y_bs=df_bootstrap_sample.iloc[:,0]\n",
        "\n",
        "  #oob sample features set\n",
        "  x_oob=df_oob.iloc[:,1:8]\n",
        "  #OB sample response variable\n",
        "  y_oob=df_oob.iloc[:,0]\n",
        "\n",
        "  # fit your model with bootstrap sample\n",
        "  lm=SGDRegressor()\n",
        "  lm.fit(x_bs,y_bs)\n",
        "\n",
        "  #test your model on out of bag sample\n",
        "  predictedvalues=lm.predict(x_oob)\n",
        "\n",
        "  #capture mse for the predicted values\n",
        "  mse=mean_squared_error(y_oob,predictedvalues)\n",
        "\n",
        "  #create a list of mse values\n",
        "  mse_each_iteration.append(mse)"
      ],
      "metadata": {
        "id": "ZAFszG-sMTmO"
      },
      "execution_count": null,
      "outputs": []
    },
    {
      "cell_type": "code",
      "source": [
        "#Plot mse for each model built\n",
        "import matplotlib.pyplot as plt\n",
        "f, ax=plt.subplots(figsize=(8,6))\n",
        "\n",
        "plt.plot(mse_each_iteration,'c--',label='MSE by iterations')\n",
        "\n",
        "plt.xlabel('Iterations')\n",
        "plt.ylabel('Mean squared error')\n",
        "plt.legend(loc=1)\n",
        "plt.show()"
      ],
      "metadata": {
        "colab": {
          "base_uri": "https://localhost:8080/",
          "height": 399
        },
        "id": "rJvQtMgEMTj-",
        "outputId": "3a648401-7460-4a0f-8ab5-27793cbef808"
      },
      "execution_count": null,
      "outputs": [
        {
          "output_type": "display_data",
          "data": {
            "text/plain": [
              "<Figure size 576x432 with 1 Axes>"
            ],
            "image/png": "[encoded data removed]"
          },
          "metadata": {
            "needs_background": "light"
          }
        }
      ]
    },
    {
      "cell_type": "code",
      "source": [
        "# We can also gridsearchcv\n",
        "\n",
        "from sklearn.model_selection import GridSearchCV\n",
        "param_values={'n_estimators':[10,20,25,30],'base_estimator__max_leaf_nodes':[5,10,15,20],'base_estimator__max_depth':[3,4,5]}"
      ],
      "metadata": {
        "id": "c5tj7RAxh8CB"
      },
      "execution_count": null,
      "outputs": []
    },
    {
      "cell_type": "code",
      "source": [
        "# Instantiate the classifier\n",
        "dt_model=DecisionTreeClassifier()\n",
        "bag_dt_model_grid=BaggingClassifier(base_estimator=dt_model,oob_score=True,random_state=1)"
      ],
      "metadata": {
        "id": "86FgJ4cYi1Wz"
      },
      "execution_count": null,
      "outputs": []
    },
    {
      "cell_type": "code",
      "source": [
        "# We use GridSearchCV to determine the best parameters\n",
        "bc_grid=GridSearchCV(estimator=bag_dt_model,param_grid=param_values,cv=20,n_jobs=-1)\n",
        "bc_grid.fit(X_train, Y_train)\n",
        "best_params=bc_grid.best_params_\n",
        "print(best_params)"
      ],
      "metadata": {
        "colab": {
          "base_uri": "https://localhost:8080/"
        },
        "id": "7-nE3HPRjDe5",
        "outputId": "cbab97b0-b544-4133-da99-dfdeb47df4b0"
      },
      "execution_count": null,
      "outputs": [
        {
          "output_type": "stream",
          "name": "stdout",
          "text": [
            "{'base_estimator__max_depth': 3, 'base_estimator__max_leaf_nodes': 10, 'n_estimators': 25}\n"
          ]
        }
      ]
    },
    {
      "cell_type": "code",
      "source": [
        "best_dt_model=DecisionTreeClassifier(criterion='entropy',max_leaf_nodes=10,max_depth=3)\n",
        "final_bag_dt_model=BaggingClassifier(base_estimator=best_dt_model,n_estimators=150,bootstrap=True,random_state=1,oob_score=True)"
      ],
      "metadata": {
        "id": "vSdhik6EkOxJ"
      },
      "execution_count": null,
      "outputs": []
    },
    {
      "cell_type": "code",
      "source": [
        "# Check accuracy of our OOB sample\n",
        "final_bag_dt_model.fit(X_train,Y_train)\n",
        "bag_predictedvalues=final_bag_dt_model.predict(X_test)\n",
        "\n",
        "# See the OOB accuracy\n",
        "acc_oob=final_bag_dt_model.oob_score_\n",
        "print(acc_oob)"
      ],
      "metadata": {
        "colab": {
          "base_uri": "https://localhost:8080/"
        },
        "id": "QP45_QZCkqrG",
        "outputId": "54157414-ad5b-4429-9e9f-d9807d4167c8"
      },
      "execution_count": null,
      "outputs": [
        {
          "output_type": "stream",
          "name": "stdout",
          "text": [
            "0.946969696969697\n"
          ]
        }
      ]
    }
  ]
}